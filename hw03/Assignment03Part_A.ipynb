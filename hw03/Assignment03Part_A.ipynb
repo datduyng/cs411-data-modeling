{
  "nbformat": 4,
  "nbformat_minor": 0,
  "metadata": {
    "kernelspec": {
      "display_name": "Python 3",
      "language": "python",
      "name": "python3"
    },
    "language_info": {
      "codemirror_mode": {
        "name": "ipython",
        "version": 3
      },
      "file_extension": ".py",
      "mimetype": "text/x-python",
      "name": "python",
      "nbconvert_exporter": "python",
      "pygments_lexer": "ipython3",
      "version": "3.7.4"
    },
    "colab": {
      "name": "Copy of Assignment03Part A.ipynb",
      "provenance": [],
      "collapsed_sections": [],
      "include_colab_link": true
    }
  },
  "cells": [
    {
      "cell_type": "markdown",
      "metadata": {
        "id": "view-in-github",
        "colab_type": "text"
      },
      "source": [
        "<a href=\"https://colab.research.google.com/github/datduyng/cs411-data-modeling/blob/master/hw03/Assignment03Part_A.ipynb\" target=\"_parent\"><img src=\"https://colab.research.google.com/assets/colab-badge.svg\" alt=\"Open In Colab\"/></a>"
      ]
    },
    {
      "cell_type": "code",
      "metadata": {
        "id": "CzrlptP-Oazq",
        "outputId": "9c92c781-53e1-4174-9bd9-1b935ba87fbf",
        "colab": {
          "base_uri": "https://localhost:8080/",
          "height": 52
        }
      },
      "source": [
        "import numpy as np\n",
        "import pandas as pd\n",
        "from time import time\n",
        "import os\n",
        "from sklearn.preprocessing import StandardScaler\n",
        "from sklearn.metrics import silhouette_score\n",
        "from matplotlib import pyplot as plt\n",
        "from google.colab import files\n",
        "import io\n",
        "from tqdm import tqdm as loader\n",
        "import sys\n",
        "import time\n",
        "import copy\n",
        "\n",
        "\n",
        "%matplotlib inline\n",
        "plt.rcParams['figure.figsize'] = (20,15) # set default size of plots\n",
        "plt.rcParams['image.interpolation'] = 'nearest'\n",
        "plt.rcParams['image.cmap'] = 'gray'\n",
        "plt.style.use('ggplot')\n",
        "\n",
        "\n",
        "# for auto-reloading external modules\n",
        "# see http://stackoverflow.com/questions/1907993/autoreload-of-modules-in-ipython\n",
        "%load_ext autoreload\n",
        "%autoreload 2"
      ],
      "execution_count": null,
      "outputs": [
        {
          "output_type": "stream",
          "text": [
            "The autoreload extension is already loaded. To reload it, use:\n",
            "  %reload_ext autoreload\n"
          ],
          "name": "stdout"
        }
      ]
    },
    {
      "cell_type": "code",
      "metadata": {
        "id": "W3Ej2RROHPFP",
        "outputId": "e851816a-c34f-45a8-f5e3-6d649b9ff18a",
        "colab": {
          "resources": {
            "http://localhost:8080/nbextensions/google.colab/files.js": {
              "data": "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",
              "ok": true,
              "headers": [
                [
                  "content-type",
                  "application/javascript"
                ]
              ],
              "status": 200,
              "status_text": ""
            }
          },
          "base_uri": "https://localhost:8080/",
          "height": 73
        }
      },
      "source": [
        "from google.colab import files\n",
        "uploaded = files.upload()"
      ],
      "execution_count": null,
      "outputs": [
        {
          "output_type": "display_data",
          "data": {
            "text/html": [
              "\n",
              "     <input type=\"file\" id=\"files-b5918bd5-3a8a-4188-a26e-e772d490bcf0\" name=\"files[]\" multiple disabled\n",
              "        style=\"border:none\" />\n",
              "     <output id=\"result-b5918bd5-3a8a-4188-a26e-e772d490bcf0\">\n",
              "      Upload widget is only available when the cell has been executed in the\n",
              "      current browser session. Please rerun this cell to enable.\n",
              "      </output>\n",
              "      <script src=\"/nbextensions/google.colab/files.js\"></script> "
            ],
            "text/plain": [
              "<IPython.core.display.HTML object>"
            ]
          },
          "metadata": {
            "tags": []
          }
        },
        {
          "output_type": "stream",
          "text": [
            "Saving movies_metadata.csv to movies_metadata (2).csv\n"
          ],
          "name": "stdout"
        }
      ]
    },
    {
      "cell_type": "code",
      "metadata": {
        "id": "uJlMS2_XO2Py",
        "outputId": "fc912834-c3c0-4a90-c78a-f2bbdd3c5822",
        "colab": {
          "base_uri": "https://localhost:8080/",
          "height": 52
        }
      },
      "source": [
        "movies= pd.read_csv(io.BytesIO(uploaded['movies_metadata.csv']))"
      ],
      "execution_count": null,
      "outputs": [
        {
          "output_type": "stream",
          "text": [
            "/usr/local/lib/python3.6/dist-packages/IPython/core/interactiveshell.py:2718: DtypeWarning: Columns (10) have mixed types.Specify dtype option on import or set low_memory=False.\n",
            "  interactivity=interactivity, compiler=compiler, result=result)\n"
          ],
          "name": "stderr"
        }
      ]
    },
    {
      "cell_type": "code",
      "metadata": {
        "id": "VBEFgKoYOazz",
        "outputId": "4a7cf5e9-c482-4f8a-c2bb-3a8bf390b6b4",
        "colab": {
          "base_uri": "https://localhost:8080/",
          "height": 197
        }
      },
      "source": [
        "\n",
        "#retain numeric columns for clustering\n",
        "movies = movies[['budget','popularity','revenue','runtime','vote_average','vote_count']]\n",
        "\n",
        "# drop rows with null or NaN values\n",
        "movies = movies[~movies.isnull().any(axis=1)]\n",
        "movies = movies.dropna()\n",
        "\n",
        "# remove movies with less than 30 votes\n",
        "movies = movies[movies['vote_count'] > 30]\n",
        "movies.head()"
      ],
      "execution_count": null,
      "outputs": [
        {
          "output_type": "execute_result",
          "data": {
            "text/html": [
              "<div>\n",
              "<style scoped>\n",
              "    .dataframe tbody tr th:only-of-type {\n",
              "        vertical-align: middle;\n",
              "    }\n",
              "\n",
              "    .dataframe tbody tr th {\n",
              "        vertical-align: top;\n",
              "    }\n",
              "\n",
              "    .dataframe thead th {\n",
              "        text-align: right;\n",
              "    }\n",
              "</style>\n",
              "<table border=\"1\" class=\"dataframe\">\n",
              "  <thead>\n",
              "    <tr style=\"text-align: right;\">\n",
              "      <th></th>\n",
              "      <th>budget</th>\n",
              "      <th>popularity</th>\n",
              "      <th>revenue</th>\n",
              "      <th>runtime</th>\n",
              "      <th>vote_average</th>\n",
              "      <th>vote_count</th>\n",
              "    </tr>\n",
              "  </thead>\n",
              "  <tbody>\n",
              "    <tr>\n",
              "      <th>0</th>\n",
              "      <td>30000000</td>\n",
              "      <td>21.9469</td>\n",
              "      <td>373554033.0</td>\n",
              "      <td>81.0</td>\n",
              "      <td>7.7</td>\n",
              "      <td>5415.0</td>\n",
              "    </tr>\n",
              "    <tr>\n",
              "      <th>1</th>\n",
              "      <td>65000000</td>\n",
              "      <td>17.0155</td>\n",
              "      <td>262797249.0</td>\n",
              "      <td>104.0</td>\n",
              "      <td>6.9</td>\n",
              "      <td>2413.0</td>\n",
              "    </tr>\n",
              "    <tr>\n",
              "      <th>2</th>\n",
              "      <td>0</td>\n",
              "      <td>11.7129</td>\n",
              "      <td>0.0</td>\n",
              "      <td>101.0</td>\n",
              "      <td>6.5</td>\n",
              "      <td>92.0</td>\n",
              "    </tr>\n",
              "    <tr>\n",
              "      <th>3</th>\n",
              "      <td>16000000</td>\n",
              "      <td>3.85949</td>\n",
              "      <td>81452156.0</td>\n",
              "      <td>127.0</td>\n",
              "      <td>6.1</td>\n",
              "      <td>34.0</td>\n",
              "    </tr>\n",
              "    <tr>\n",
              "      <th>4</th>\n",
              "      <td>0</td>\n",
              "      <td>8.38752</td>\n",
              "      <td>76578911.0</td>\n",
              "      <td>106.0</td>\n",
              "      <td>5.7</td>\n",
              "      <td>173.0</td>\n",
              "    </tr>\n",
              "  </tbody>\n",
              "</table>\n",
              "</div>"
            ],
            "text/plain": [
              "     budget popularity      revenue  runtime  vote_average  vote_count\n",
              "0  30000000    21.9469  373554033.0     81.0           7.7      5415.0\n",
              "1  65000000    17.0155  262797249.0    104.0           6.9      2413.0\n",
              "2         0    11.7129          0.0    101.0           6.5        92.0\n",
              "3  16000000    3.85949   81452156.0    127.0           6.1        34.0\n",
              "4         0    8.38752   76578911.0    106.0           5.7       173.0"
            ]
          },
          "metadata": {
            "tags": []
          },
          "execution_count": 8
        }
      ]
    },
    {
      "cell_type": "code",
      "metadata": {
        "id": "nIgZUdtJOaz5"
      },
      "source": [
        "scaler = StandardScaler()\n",
        "movies_standardized = scaler.fit_transform(movies.values)"
      ],
      "execution_count": null,
      "outputs": []
    },
    {
      "cell_type": "code",
      "metadata": {
        "id": "iB5RgufoOa0A",
        "outputId": "8e36e7cc-6b86-4cfb-f3fe-ed4e444fc6d4",
        "colab": {
          "base_uri": "https://localhost:8080/",
          "height": 70
        }
      },
      "source": [
        "movies.columns"
      ],
      "execution_count": null,
      "outputs": [
        {
          "output_type": "execute_result",
          "data": {
            "text/plain": [
              "Index(['budget', 'popularity', 'revenue', 'runtime', 'vote_average',\n",
              "       'vote_count'],\n",
              "      dtype='object')"
            ]
          },
          "metadata": {
            "tags": []
          },
          "execution_count": 10
        }
      ]
    },
    {
      "cell_type": "code",
      "metadata": {
        "id": "s4_Sarn6ZoBv"
      },
      "source": [
        "# # Extra Credit \n",
        "\n",
        "# def euclidean(list_A, list_B):\n",
        "#   diff_vect = list_A - list_B\n",
        "#   return np.sqrt(np.dot(diff_vect,diff_vect))\n",
        "\n",
        "\n",
        "# def manhattan(list_A, list_B):\n",
        "#   # list_length_check(list_A,list_B)\n",
        "#   from numpy import sqrt\n",
        "#   a_b = zip(list_A, list_B)\n",
        "#   manhattan = 0\n",
        "#   for x,y in a_b:\n",
        "#       manhattan += abs(x-y)\n",
        "#   return manhattan\n",
        "\n",
        "# #store all distances\n",
        "# def Distance_matrix(X, distance_metric):\n",
        "#   manhat = np.zeros(shape=(len(X),len(X)))\n",
        "#   euclid = np.zeros(shape=(len(X),len(X)))\n",
        "#   for i in range(len(X)):\n",
        "#     for j in range(len(X)):\n",
        "#       if euclid[i][j] == 0 & manhat[i][j] == 0 & i!=j:\n",
        "#         if distance_metric is 'euclidean':\n",
        "#           euclid[i][j] = euclidean(X[i],X[j])\n",
        "#           euclid[j][i] = euclid[i][j]\n",
        "#         if distance_metric is 'manhattan':\n",
        "#           manhat[i][j] = manhattan(X[i],X[j])\n",
        "#           manhat[j][i] = manhat[i][j]\n",
        "#   return euclid, manhat\n",
        "\n",
        "#   def RangeQueryX(X, distance_metric, euclid, manhat, point, eps ):\n",
        "#     N=[]\n",
        "#     idx=[]\n",
        "#     dist = 100\n",
        "#     if distance_metric is 'euclidean':\n",
        "#       idx = (euclid[point]<= eps).nonzero()[0]\n",
        "#     if distance_metric is 'manhattan':\n",
        "#       idx=(manhat[point]<= eps).nonzero()[0]\n",
        "#     N.append(idx)\n",
        "#     return N"
      ],
      "execution_count": null,
      "outputs": []
    },
    {
      "cell_type": "code",
      "metadata": {
        "id": "OfP_OPonOa0m"
      },
      "source": [
        "def euclidean(list_A, list_B):\n",
        "  diff_vect = list_A - list_B\n",
        "  return np.sqrt(np.dot(diff_vect,diff_vect))\n",
        "\n",
        "def manhattan(list_A, list_B):\n",
        "  from numpy import sqrt\n",
        "  a_b = zip(list_A, list_B)\n",
        "  manhattan = 0\n",
        "  for x,y in a_b:\n",
        "      manhattan += abs(x-y)\n",
        "  return manhattan\n",
        "\n",
        "#   euclidean = lambda q,p: np.sqrt(np.sum((q - p)**2, axis=1))#Stack. vertically\n",
        "\n",
        "# manhattan = lambda x,y: np.sum(np.abs(x - y), axis=1)\n",
        " \n",
        "\n",
        "def RangeQuery(X, distance_metric, point, eps):\n",
        "  N = []\n",
        "  dist = 100\n",
        "  for i in (range(len(X))):\n",
        "      if distance_metric is 'euclidean':\n",
        "        dist = euclidean(X[i],point)\n",
        "      if distance_metric is 'manhattan':\n",
        "        dist = manhattan(X[i],point)\n",
        "      if dist <= eps:\n",
        "        N.append(i)\n",
        "  return N"
      ],
      "execution_count": null,
      "outputs": []
    },
    {
      "cell_type": "code",
      "metadata": {
        "id": "5YorIM4vosW0",
        "outputId": "20a418ed-5ecd-44d4-a9ab-58dd78538adf",
        "colab": {
          "base_uri": "https://localhost:8080/",
          "height": 34
        }
      },
      "source": [
        "test = euclidean(movies_standardized[0],movies_standardized[1])\n",
        "\n",
        "test"
      ],
      "execution_count": null,
      "outputs": [
        {
          "output_type": "execute_result",
          "data": {
            "text/plain": [
              "3.881588941533921"
            ]
          },
          "metadata": {
            "tags": []
          },
          "execution_count": 46
        }
      ]
    },
    {
      "cell_type": "code",
      "metadata": {
        "id": "Y_PRGyCArbO0",
        "outputId": "5170bae1-1352-4cb3-8b3c-d658292a0189",
        "colab": {
          "base_uri": "https://localhost:8080/",
          "height": 34
        }
      },
      "source": [
        "#sanity check\n",
        "test = RangeQuery(movies_standardized, 'euclidean', movies_standardized[2], 10)\n",
        "len(test)"
      ],
      "execution_count": null,
      "outputs": [
        {
          "output_type": "execute_result",
          "data": {
            "text/plain": [
              "12067"
            ]
          },
          "metadata": {
            "tags": []
          },
          "execution_count": 47
        }
      ]
    },
    {
      "cell_type": "code",
      "metadata": {
        "id": "LFpVlodgUcFJ"
      },
      "source": [
        ""
      ],
      "execution_count": null,
      "outputs": []
    },
    {
      "cell_type": "code",
      "metadata": {
        "id": "pzmSt87oOa0S"
      },
      "source": [
        "class DBSCAN():\n",
        "    def fit(self, X, eps, min_samples, distance_metric):\n",
        "        C=0\n",
        "        label = dict.fromkeys(range(len(X)), \"unvisited\")\n",
        "        for i in range(len(X)):\n",
        "          # sys.stdout.write( '\\r'+\"currently in \"+str(i)+\"/\"+str(len(X)) +\" i.e. \"+str((i*100)/len(X)))\n",
        "          if (label[i] != \"unvisited\"): \n",
        "            continue\n",
        "          N = RangeQuery(X, distance_metric, X[i], eps)\n",
        "          if (len(N)<min_samples):\n",
        "            label[i] = -1\n",
        "            continue\n",
        "          C = C+1\n",
        "          label[i]= C\n",
        "          N.remove(i)\n",
        "          S = copy.deepcopy(N)\n",
        "          for Q in range(len(S)):\n",
        "              sys.stdout.write( '\\r'+\"currently in inner loop for iteration \"+str(i)+ \" and \"+str(Q)+\"/\"+str(len(S)) +\" i.e. \"+str((Q*100)/len(S)))\n",
        "              if label[S[Q]] == -1:\n",
        "                label[S[Q]] = C\n",
        "              if label[S[Q]] != \"unvisited\":\n",
        "                continue\n",
        "              label[S[Q]] = C\n",
        "              N = RangeQuery(X, distance_metric, X[Q], eps)\n",
        "              if len(N) >= min_samples:\n",
        "                  S.append(N)\n",
        "        return list(label.values())\n",
        "\n",
        "    def __init__(self):\n",
        "            pass\n",
        "            "
      ],
      "execution_count": null,
      "outputs": []
    },
    {
      "cell_type": "code",
      "metadata": {
        "id": "w4wwz_bkqZEI",
        "outputId": "764ad8fc-c516-4fa0-f6f4-30aee85428ba",
        "colab": {
          "base_uri": "https://localhost:8080/",
          "height": 238
        }
      },
      "source": [
        "#Sanity Check\n",
        "dbscan = DBSCAN()\n",
        "labels = dbscan.fit(movies_standardized[:200], 10,4,'euclidean')\n",
        "labl = list(set(labels.values()))\n",
        "len(labl)"
      ],
      "execution_count": null,
      "outputs": [
        {
          "output_type": "stream",
          "text": [
            "currently in inner loop for iteration 0 and 197/394 i.e. 50.0"
          ],
          "name": "stdout"
        },
        {
          "output_type": "error",
          "ename": "AttributeError",
          "evalue": "ignored",
          "traceback": [
            "\u001b[0;31m---------------------------------------------------------------------------\u001b[0m",
            "\u001b[0;31mAttributeError\u001b[0m                            Traceback (most recent call last)",
            "\u001b[0;32m<ipython-input-99-1e909537a3e8>\u001b[0m in \u001b[0;36m<module>\u001b[0;34m()\u001b[0m\n\u001b[1;32m      2\u001b[0m \u001b[0mdbscan\u001b[0m \u001b[0;34m=\u001b[0m \u001b[0mDBSCAN\u001b[0m\u001b[0;34m(\u001b[0m\u001b[0;34m)\u001b[0m\u001b[0;34m\u001b[0m\u001b[0;34m\u001b[0m\u001b[0m\n\u001b[1;32m      3\u001b[0m \u001b[0mlabels\u001b[0m \u001b[0;34m=\u001b[0m \u001b[0mdbscan\u001b[0m\u001b[0;34m.\u001b[0m\u001b[0mfit\u001b[0m\u001b[0;34m(\u001b[0m\u001b[0mmovies_standardized\u001b[0m\u001b[0;34m[\u001b[0m\u001b[0;34m:\u001b[0m\u001b[0;36m200\u001b[0m\u001b[0;34m]\u001b[0m\u001b[0;34m,\u001b[0m \u001b[0;36m10\u001b[0m\u001b[0;34m,\u001b[0m\u001b[0;36m4\u001b[0m\u001b[0;34m,\u001b[0m\u001b[0;34m'euclidean'\u001b[0m\u001b[0;34m)\u001b[0m\u001b[0;34m\u001b[0m\u001b[0;34m\u001b[0m\u001b[0m\n\u001b[0;32m----> 4\u001b[0;31m \u001b[0mlabl\u001b[0m \u001b[0;34m=\u001b[0m \u001b[0mlist\u001b[0m\u001b[0;34m(\u001b[0m\u001b[0mset\u001b[0m\u001b[0;34m(\u001b[0m\u001b[0mlabels\u001b[0m\u001b[0;34m.\u001b[0m\u001b[0mvalues\u001b[0m\u001b[0;34m(\u001b[0m\u001b[0;34m)\u001b[0m\u001b[0;34m)\u001b[0m\u001b[0;34m)\u001b[0m\u001b[0;34m\u001b[0m\u001b[0;34m\u001b[0m\u001b[0m\n\u001b[0m\u001b[1;32m      5\u001b[0m \u001b[0mlen\u001b[0m\u001b[0;34m(\u001b[0m\u001b[0mlabl\u001b[0m\u001b[0;34m)\u001b[0m\u001b[0;34m\u001b[0m\u001b[0;34m\u001b[0m\u001b[0m\n",
            "\u001b[0;31mAttributeError\u001b[0m: 'list' object has no attribute 'values'"
          ]
        }
      ]
    },
    {
      "cell_type": "code",
      "metadata": {
        "id": "gefxBQt5kpIJ",
        "outputId": "910742da-6b76-4a23-a6cb-c87b49e26abf",
        "colab": {
          "base_uri": "https://localhost:8080/",
          "height": 34
        }
      },
      "source": [
        "labels_set = set(labels.values())\n",
        "# len(labels_set)\n",
        "labels_set"
      ],
      "execution_count": null,
      "outputs": [
        {
          "output_type": "execute_result",
          "data": {
            "text/plain": [
              "{1}"
            ]
          },
          "metadata": {
            "tags": []
          },
          "execution_count": 76
        }
      ]
    },
    {
      "cell_type": "markdown",
      "metadata": {
        "id": "wnR58jcHxtrv"
      },
      "source": [
        "### Find Optimal EPS  \n",
        "calculate all distance and sort in ascending order.  \n",
        "plot the distances on a graph.  \n",
        "find the elbow or transition point to be the optimal eps"
      ]
    },
    {
      "cell_type": "code",
      "metadata": {
        "id": "vZedRyLWpYSV",
        "outputId": "4042c49f-91ea-44f9-a156-417315a676a9",
        "colab": {
          "base_uri": "https://localhost:8080/"
        }
      },
      "source": [
        "#findOptimal EPS\n",
        "dist = np.zeros(shape=(len(movies_standardized),len(movies_standardized)))\n",
        "for i in loader(range(len(movies_standardized))):\n",
        "  sys.stdout.write( '\\r'+\"currently in \"+str(i))\n",
        "\n",
        "  for j in range(len(movies_standardized)):\n",
        "    dist[i][j] = euclidean(movies_standardized[i],movies_standardized[j])\n",
        "\n",
        "# distdf=pd.DataFrame(np.sort(dist.values, axis=0), index=dist.index, columns=dist.columns)\n"
      ],
      "execution_count": null,
      "outputs": [
        {
          "output_type": "stream",
          "text": [
            "  1%|          | 80/12178 [00:05<14:58, 13.47it/s]\n"
          ],
          "name": "stderr"
        },
        {
          "output_type": "error",
          "ename": "KeyboardInterrupt",
          "evalue": "ignored",
          "traceback": [
            "\u001b[0;31m---------------------------------------------------------------------------\u001b[0m",
            "\u001b[0;31mKeyboardInterrupt\u001b[0m                         Traceback (most recent call last)",
            "\u001b[0;32m<ipython-input-78-f370cd0e7bff>\u001b[0m in \u001b[0;36m<module>\u001b[0;34m()\u001b[0m\n\u001b[1;32m      3\u001b[0m \u001b[0;32mfor\u001b[0m \u001b[0mi\u001b[0m \u001b[0;32min\u001b[0m \u001b[0mloader\u001b[0m\u001b[0;34m(\u001b[0m\u001b[0mrange\u001b[0m\u001b[0;34m(\u001b[0m\u001b[0mlen\u001b[0m\u001b[0;34m(\u001b[0m\u001b[0mmovies_standardized\u001b[0m\u001b[0;34m)\u001b[0m\u001b[0;34m)\u001b[0m\u001b[0;34m)\u001b[0m\u001b[0;34m:\u001b[0m\u001b[0;34m\u001b[0m\u001b[0;34m\u001b[0m\u001b[0m\n\u001b[1;32m      4\u001b[0m   \u001b[0;32mfor\u001b[0m \u001b[0mj\u001b[0m \u001b[0;32min\u001b[0m \u001b[0mrange\u001b[0m\u001b[0;34m(\u001b[0m\u001b[0mlen\u001b[0m\u001b[0;34m(\u001b[0m\u001b[0mmovies_standardized\u001b[0m\u001b[0;34m)\u001b[0m\u001b[0;34m)\u001b[0m\u001b[0;34m:\u001b[0m\u001b[0;34m\u001b[0m\u001b[0;34m\u001b[0m\u001b[0m\n\u001b[0;32m----> 5\u001b[0;31m     \u001b[0mdist\u001b[0m\u001b[0;34m[\u001b[0m\u001b[0mi\u001b[0m\u001b[0;34m]\u001b[0m\u001b[0;34m[\u001b[0m\u001b[0mj\u001b[0m\u001b[0;34m]\u001b[0m \u001b[0;34m=\u001b[0m \u001b[0meuclidean\u001b[0m\u001b[0;34m(\u001b[0m\u001b[0mmovies_standardized\u001b[0m\u001b[0;34m[\u001b[0m\u001b[0mi\u001b[0m\u001b[0;34m]\u001b[0m\u001b[0;34m,\u001b[0m\u001b[0mmovies_standardized\u001b[0m\u001b[0;34m[\u001b[0m\u001b[0mj\u001b[0m\u001b[0;34m]\u001b[0m\u001b[0;34m)\u001b[0m\u001b[0;34m\u001b[0m\u001b[0;34m\u001b[0m\u001b[0m\n\u001b[0m\u001b[1;32m      6\u001b[0m \u001b[0;34m\u001b[0m\u001b[0m\n\u001b[1;32m      7\u001b[0m \u001b[0;31m# distdf=pd.DataFrame(np.sort(dist.values, axis=0), index=dist.index, columns=dist.columns)\u001b[0m\u001b[0;34m\u001b[0m\u001b[0;34m\u001b[0m\u001b[0;34m\u001b[0m\u001b[0m\n",
            "\u001b[0;32m<ipython-input-13-1d69b5de488f>\u001b[0m in \u001b[0;36meuclidean\u001b[0;34m(list_A, list_B)\u001b[0m\n\u001b[1;32m      1\u001b[0m \u001b[0;32mdef\u001b[0m \u001b[0meuclidean\u001b[0m\u001b[0;34m(\u001b[0m\u001b[0mlist_A\u001b[0m\u001b[0;34m,\u001b[0m \u001b[0mlist_B\u001b[0m\u001b[0;34m)\u001b[0m\u001b[0;34m:\u001b[0m\u001b[0;34m\u001b[0m\u001b[0;34m\u001b[0m\u001b[0m\n\u001b[1;32m      2\u001b[0m   \u001b[0mdiff_vect\u001b[0m \u001b[0;34m=\u001b[0m \u001b[0mlist_A\u001b[0m \u001b[0;34m-\u001b[0m \u001b[0mlist_B\u001b[0m\u001b[0;34m\u001b[0m\u001b[0;34m\u001b[0m\u001b[0m\n\u001b[0;32m----> 3\u001b[0;31m   \u001b[0;32mreturn\u001b[0m \u001b[0mnp\u001b[0m\u001b[0;34m.\u001b[0m\u001b[0msqrt\u001b[0m\u001b[0;34m(\u001b[0m\u001b[0mnp\u001b[0m\u001b[0;34m.\u001b[0m\u001b[0mdot\u001b[0m\u001b[0;34m(\u001b[0m\u001b[0mdiff_vect\u001b[0m\u001b[0;34m,\u001b[0m\u001b[0mdiff_vect\u001b[0m\u001b[0;34m)\u001b[0m\u001b[0;34m)\u001b[0m\u001b[0;34m\u001b[0m\u001b[0;34m\u001b[0m\u001b[0m\n\u001b[0m\u001b[1;32m      4\u001b[0m \u001b[0;34m\u001b[0m\u001b[0m\n\u001b[1;32m      5\u001b[0m \u001b[0;32mdef\u001b[0m \u001b[0mmanhattan\u001b[0m\u001b[0;34m(\u001b[0m\u001b[0mlist_A\u001b[0m\u001b[0;34m,\u001b[0m \u001b[0mlist_B\u001b[0m\u001b[0;34m)\u001b[0m\u001b[0;34m:\u001b[0m\u001b[0;34m\u001b[0m\u001b[0;34m\u001b[0m\u001b[0m\n",
            "\u001b[0;32m<__array_function__ internals>\u001b[0m in \u001b[0;36mdot\u001b[0;34m(*args, **kwargs)\u001b[0m\n",
            "\u001b[0;31mKeyboardInterrupt\u001b[0m: "
          ]
        }
      ]
    },
    {
      "cell_type": "code",
      "metadata": {
        "id": "t3kq-uC6uwUD"
      },
      "source": [
        "dist_sorted = np.sort(dist, axis=None)  "
      ],
      "execution_count": null,
      "outputs": []
    },
    {
      "cell_type": "code",
      "metadata": {
        "id": "vA91AdoesFVE"
      },
      "source": [
        "plt.plot(dist_sorted)\n",
        "plt.ylabel(' Distances')\n",
        "plt.show()"
      ],
      "execution_count": null,
      "outputs": []
    },
    {
      "cell_type": "markdown",
      "metadata": {
        "id": "E_trdB-_xzab"
      },
      "source": [
        "### Run DBSCAN "
      ]
    },
    {
      "cell_type": "code",
      "metadata": {
        "id": "8j0_bI3OOa0g"
      },
      "source": [
        "eps = [10.0, 20, 30]\n",
        "min_samples = [4,6,8]\n",
        "distance_metric = ['euclidean','manhattan']\n",
        "X = copy.deepcopy(movies_standardized[:2000])\n",
        "\n",
        "dbscan_basket = []\n",
        "best_param, best_score, best_labels = None, -1., []"
      ],
      "execution_count": null,
      "outputs": []
    },
    {
      "cell_type": "code",
      "metadata": {
        "id": "IWJBKRCQaq9A",
        "outputId": "c8b82219-1cff-4bbd-e055-8ee42a976c94",
        "colab": {
          "base_uri": "https://localhost:8080/",
          "height": 496
        }
      },
      "source": [
        "for e in eps:\n",
        "    for ms in min_samples:\n",
        "        print(\"current iteration \"+ str(e) + \" and minsamp \"+ str(ms)+\"       \")\n",
        "        for dm in distance_metric:\n",
        "            dbscan = DBSCAN()\n",
        "            labels = dbscan.fit(X,e,ms,dm)\n",
        "            num_labels = len(set(labels))\n",
        "            print(\"    num label is \"+ str(num_labels))\n",
        "            if num_labels < 2: continue\n",
        "            sil = silhouette_score(X, labels)\n",
        "            params = {\n",
        "                'eps': e,\n",
        "                'min_samples': ms,\n",
        "                'distance_metric': dm,\n",
        "                'num_labels': num_labels,\n",
        "                'silhouette': sil\n",
        "            }\n",
        "\n",
        "            dbscan_basket.append(params)\n",
        "            if sil > best_score:\n",
        "                best_param = params\n",
        "                best_score = sil\n",
        "                best_labels = labels"
      ],
      "execution_count": null,
      "outputs": [
        {
          "output_type": "stream",
          "text": [
            "current iteration 10.0 and minsamp 4       \n",
            "currently in inner loop for iteration 187 and 2/3 i.e. 66.66666666666667    num label is 3\n",
            "currently in inner loop for iteration 515 and 704/706 i.e. 99.71671388101983    num label is 8\n",
            "current iteration 10.0 and minsamp 6       \n",
            "currently in inner loop for iteration 0 and 1996/3991 i.e. 50.01252818842396    num label is 2\n",
            "currently in inner loop for iteration 515 and 704/706 i.e. 99.71671388101983    num label is 8\n",
            "current iteration 10.0 and minsamp 8       \n",
            "currently in inner loop for iteration 0 and 1996/3991 i.e. 50.01252818842396    num label is 2\n",
            "currently in inner loop for iteration 515 and 704/706 i.e. 99.71671388101983    num label is 8\n",
            "current iteration 20 and minsamp 4       \n",
            "currently in inner loop for iteration 0 and 1998/3997 i.e. 49.98749061796347    num label is 1\n",
            "currently in inner loop for iteration 980 and 2/3 i.e. 66.66666666666667    num label is 3\n",
            "current iteration 20 and minsamp 6       \n",
            "currently in inner loop for iteration 0 and 1998/3997 i.e. 49.98749061796347    num label is 1\n",
            "currently in inner loop for iteration 187 and 14/15 i.e. 93.33333333333333    num label is 3\n",
            "current iteration 20 and minsamp 8       \n",
            "currently in inner loop for iteration 0 and 1998/3997 i.e. 49.98749061796347    num label is 1\n",
            "currently in inner loop for iteration 187 and 14/15 i.e. 93.33333333333333    num label is 3\n",
            "current iteration 30 and minsamp 4       \n",
            "currently in inner loop for iteration 0 and 1998/3997 i.e. 49.98749061796347    num label is 1\n",
            "currently in inner loop for iteration 0 and 1998/3997 i.e. 49.98749061796347    num label is 1\n",
            "current iteration 30 and minsamp 6       \n",
            "currently in inner loop for iteration 0 and 1998/3997 i.e. 49.98749061796347    num label is 1\n",
            "currently in inner loop for iteration 0 and 1998/3997 i.e. 49.98749061796347    num label is 1\n",
            "current iteration 30 and minsamp 8       \n",
            "currently in inner loop for iteration 0 and 1998/3997 i.e. 49.98749061796347    num label is 1\n",
            "currently in inner loop for iteration 0 and 1998/3997 i.e. 49.98749061796347    num label is 1\n"
          ],
          "name": "stdout"
        }
      ]
    },
    {
      "cell_type": "code",
      "metadata": {
        "id": "tbV5RF0g9drF",
        "outputId": "479a4ae9-925c-4d58-d0c9-323dae70c14c",
        "colab": {
          "base_uri": "https://localhost:8080/",
          "height": 34
        }
      },
      "source": [
        "print(best_param)"
      ],
      "execution_count": null,
      "outputs": [
        {
          "output_type": "stream",
          "text": [
            "{'eps': 10.0, 'min_samples': 6, 'distance_metric': 'euclidean', 'num_labels': 2, 'silhouette': 0.8610160235477692}\n"
          ],
          "name": "stdout"
        }
      ]
    },
    {
      "cell_type": "code",
      "metadata": {
        "id": "PVP_L6rhuihL",
        "outputId": "93316646-084a-4783-f8bb-3e0c31be0bfd",
        "colab": {
          "base_uri": "https://localhost:8080/",
          "height": 317
        }
      },
      "source": [
        "dbscan_basket.sort(key=lambda x: float(x['silhouette']), reverse=True)\n",
        "table = {\n",
        "    'eps':[],\n",
        "    'min_samples':[],\n",
        "    'distance_metric':[],\n",
        "    'num_labels':[],\n",
        "    'silhouette': []\n",
        "}\n",
        "\n",
        "for k, v in table.items():\n",
        "    table[k] = [row[k] for row in dbscan_basket]\n",
        "\n",
        "df = pd.DataFrame(table)\n",
        "pd.set_option('display.max_rows', None, 'display.max_columns', None)\n",
        "df"
      ],
      "execution_count": null,
      "outputs": [
        {
          "output_type": "execute_result",
          "data": {
            "text/html": [
              "<div>\n",
              "<style scoped>\n",
              "    .dataframe tbody tr th:only-of-type {\n",
              "        vertical-align: middle;\n",
              "    }\n",
              "\n",
              "    .dataframe tbody tr th {\n",
              "        vertical-align: top;\n",
              "    }\n",
              "\n",
              "    .dataframe thead th {\n",
              "        text-align: right;\n",
              "    }\n",
              "</style>\n",
              "<table border=\"1\" class=\"dataframe\">\n",
              "  <thead>\n",
              "    <tr style=\"text-align: right;\">\n",
              "      <th></th>\n",
              "      <th>eps</th>\n",
              "      <th>min_samples</th>\n",
              "      <th>distance_metric</th>\n",
              "      <th>num_labels</th>\n",
              "      <th>silhouette</th>\n",
              "    </tr>\n",
              "  </thead>\n",
              "  <tbody>\n",
              "    <tr>\n",
              "      <th>0</th>\n",
              "      <td>10.0</td>\n",
              "      <td>6</td>\n",
              "      <td>euclidean</td>\n",
              "      <td>2</td>\n",
              "      <td>0.861016</td>\n",
              "    </tr>\n",
              "    <tr>\n",
              "      <th>1</th>\n",
              "      <td>10.0</td>\n",
              "      <td>8</td>\n",
              "      <td>euclidean</td>\n",
              "      <td>2</td>\n",
              "      <td>0.861016</td>\n",
              "    </tr>\n",
              "    <tr>\n",
              "      <th>2</th>\n",
              "      <td>10.0</td>\n",
              "      <td>4</td>\n",
              "      <td>euclidean</td>\n",
              "      <td>3</td>\n",
              "      <td>0.852891</td>\n",
              "    </tr>\n",
              "    <tr>\n",
              "      <th>3</th>\n",
              "      <td>20.0</td>\n",
              "      <td>4</td>\n",
              "      <td>manhattan</td>\n",
              "      <td>3</td>\n",
              "      <td>0.852891</td>\n",
              "    </tr>\n",
              "    <tr>\n",
              "      <th>4</th>\n",
              "      <td>20.0</td>\n",
              "      <td>6</td>\n",
              "      <td>manhattan</td>\n",
              "      <td>3</td>\n",
              "      <td>0.852891</td>\n",
              "    </tr>\n",
              "    <tr>\n",
              "      <th>5</th>\n",
              "      <td>20.0</td>\n",
              "      <td>8</td>\n",
              "      <td>manhattan</td>\n",
              "      <td>3</td>\n",
              "      <td>0.852891</td>\n",
              "    </tr>\n",
              "    <tr>\n",
              "      <th>6</th>\n",
              "      <td>10.0</td>\n",
              "      <td>4</td>\n",
              "      <td>manhattan</td>\n",
              "      <td>8</td>\n",
              "      <td>0.456555</td>\n",
              "    </tr>\n",
              "    <tr>\n",
              "      <th>7</th>\n",
              "      <td>10.0</td>\n",
              "      <td>6</td>\n",
              "      <td>manhattan</td>\n",
              "      <td>8</td>\n",
              "      <td>0.456555</td>\n",
              "    </tr>\n",
              "    <tr>\n",
              "      <th>8</th>\n",
              "      <td>10.0</td>\n",
              "      <td>8</td>\n",
              "      <td>manhattan</td>\n",
              "      <td>8</td>\n",
              "      <td>0.456555</td>\n",
              "    </tr>\n",
              "  </tbody>\n",
              "</table>\n",
              "</div>"
            ],
            "text/plain": [
              "    eps  min_samples distance_metric  num_labels  silhouette\n",
              "0  10.0            6       euclidean           2    0.861016\n",
              "1  10.0            8       euclidean           2    0.861016\n",
              "2  10.0            4       euclidean           3    0.852891\n",
              "3  20.0            4       manhattan           3    0.852891\n",
              "4  20.0            6       manhattan           3    0.852891\n",
              "5  20.0            8       manhattan           3    0.852891\n",
              "6  10.0            4       manhattan           8    0.456555\n",
              "7  10.0            6       manhattan           8    0.456555\n",
              "8  10.0            8       manhattan           8    0.456555"
            ]
          },
          "metadata": {
            "tags": []
          },
          "execution_count": 107
        }
      ]
    },
    {
      "cell_type": "code",
      "metadata": {
        "id": "aLEkDcdA90nC"
      },
      "source": [
        ""
      ],
      "execution_count": 107,
      "outputs": []
    },
    {
      "cell_type": "code",
      "metadata": {
        "id": "SRMF3w0DlGO2"
      },
      "source": [
        ""
      ],
      "execution_count": null,
      "outputs": []
    }
  ]
}